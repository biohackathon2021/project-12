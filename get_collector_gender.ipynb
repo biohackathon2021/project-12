{
  "nbformat": 4,
  "nbformat_minor": 0,
  "metadata": {
    "colab": {
      "name": "get_collector_gender.ipynb",
      "provenance": [],
      "collapsed_sections": [],
      "authorship_tag": "ABX9TyPHaeMsbiXSqKX06qtcwS9e",
      "include_colab_link": true
    },
    "kernelspec": {
      "name": "python3",
      "display_name": "Python 3"
    },
    "language_info": {
      "name": "python"
    }
  },
  "cells": [
    {
      "cell_type": "markdown",
      "metadata": {
        "id": "view-in-github",
        "colab_type": "text"
      },
      "source": [
        "<a href=\"https://colab.research.google.com/github/elixir-biohackathon-project-12/network-analysis/blob/main/get_collector_gender.ipynb\" target=\"_parent\"><img src=\"https://colab.research.google.com/assets/colab-badge.svg\" alt=\"Open In Colab\"/></a>"
      ]
    },
    {
      "cell_type": "markdown",
      "metadata": {
        "id": "j-IR_gpPHG6g"
      },
      "source": [
        "# Check for gender\n",
        "\n",
        "## Init and load data"
      ]
    },
    {
      "cell_type": "code",
      "metadata": {
        "id": "lfqKdsBv99QW"
      },
      "source": [
        "from google.colab import auth\n",
        "auth.authenticate_user()\n",
        "\n",
        "import gspread\n",
        "from oauth2client.client import GoogleCredentials\n",
        "\n",
        "gc = gspread.authorize(GoogleCredentials.get_application_default())\n",
        "\n",
        "worksheet = gc.open('id_list').sheet1\n",
        "\n",
        "# get_all_values gives a list of rows.\n",
        "rows = worksheet.get_all_values()\n",
        "print(rows)\n",
        "\n",
        "# Convert to a DataFrame and render.\n",
        "import pandas as pd\n",
        "df = pd.DataFrame.from_records(rows)\n",
        "\n",
        "# SPARQLWrapper\n",
        "!pip install -q SPARQLWrapper\n",
        "from SPARQLWrapper import SPARQLWrapper, JSON"
      ],
      "execution_count": null,
      "outputs": []
    },
    {
      "cell_type": "markdown",
      "metadata": {
        "id": "KWCl2Jz-HSPd"
      },
      "source": [
        "## Loop over de wd IDs"
      ]
    },
    {
      "cell_type": "code",
      "metadata": {
        "id": "tVlvEM9nHXdg"
      },
      "source": [
        "for row in rows:\n",
        "  url = str(row[0])\n",
        "  name = 'unknown'\n",
        "  gender = 'unknown'\n",
        "  country = 'unknown'\n",
        "  birth = 'S.D.'\n",
        "  dead = 'S.D.'\n",
        "  if 'http://www.wikidata.org/entity/' in url:\n",
        "    item = url.replace('http://www.wikidata.org/entity/', 'wd:')\n",
        "    s_query = \"\"\"\n",
        "    SELECT ?label ?gender ?genderLabel ?birthdate ?deaddate ?country ?countryLabel WHERE {{\n",
        "      {0} rdfs:label ?label .\n",
        "      OPTIONAL{{ {0} wdt:P21 ?gender .}}.\n",
        "      OPTIONAL{{ {0} wdt:P569 ?birthdate .}}.\n",
        "      OPTIONAL{{ {0} wdt:P570 ?deaddate .}}.\n",
        "      OPTIONAL{{ {0} wdt:P27 ?country .}}.\n",
        "      SERVICE wikibase:label {{ bd:serviceParam wikibase:language \"[AUTO_LANGUAGE],en\". }}\n",
        "    }}\n",
        "\n",
        "    \"\"\".format(item)\n",
        "    sparql = SPARQLWrapper('https://query.wikidata.org/sparql')\n",
        "    sparql.setQuery(s_query)\n",
        "    sparql.setReturnFormat(JSON)\n",
        "\n",
        "    results = sparql.query().convert()\n",
        "    try:\n",
        "      result = results[\"results\"][\"bindings\"][0]\n",
        "      name = result['label']['value']\n",
        "      try:\n",
        "        gender = result['genderLabel']['value']\n",
        "      except KeyError:\n",
        "        gender = 'unknown'\n",
        "      try:\n",
        "        country = result['countryLabel']['value']\n",
        "      except KeyError:\n",
        "        country = 'unknown'\n",
        "      try:\n",
        "        birth = result['birthdate']['value']\n",
        "      except KeyError:\n",
        "        birth = 'S.D.'\n",
        "      try:\n",
        "        dead = result['deaddate']['value']\n",
        "      except KeyError:\n",
        "        dead = 'S.D.'\n",
        "    except IndexError:\n",
        "      pass\n",
        "\n",
        "  else:\n",
        "    orcid = url.replace('https://orcid.org/', '')\n",
        "    s_query = \"\"\"\n",
        "    SELECT ?item ?itemLabel ?gender ?genderLabel ?birthdate ?deaddate ?country ?countryLabel WHERE {{\n",
        "      ?item wdt:P496 '{0}' .\n",
        "      OPTIONAL{{ ?item wdt:P21 ?gender .}}.\n",
        "      OPTIONAL{{ ?item wdt:P569 ?birthdate .}}.\n",
        "      OPTIONAL{{ ?item wdt:P570 ?deaddate .}}.\n",
        "      OPTIONAL{{ ?item wdt:P27 ?country .}}.\n",
        "      SERVICE wikibase:label {{ bd:serviceParam wikibase:language \"[AUTO_LANGUAGE],en\". }}\n",
        "    }}\n",
        "    \"\"\".format(orcid)\n",
        "    sparql = SPARQLWrapper('https://query.wikidata.org/sparql')\n",
        "    sparql.setQuery(s_query)\n",
        "    sparql.setReturnFormat(JSON)\n",
        "\n",
        "    results = sparql.query().convert()\n",
        "    try:\n",
        "      result = results[\"results\"][\"bindings\"][0]\n",
        "      name = result['itemLabel']['value']\n",
        "      try:\n",
        "        gender = result['genderLabel']['value']\n",
        "      except KeyError:\n",
        "        gender = 'unknown'\n",
        "      try:\n",
        "        country = result['countryLabel']['value']\n",
        "      except KeyError:\n",
        "        country = 'unknown'\n",
        "      try:\n",
        "        birth = result['birthdate']['value']\n",
        "      except KeyError:\n",
        "        birth = 'S.D.'\n",
        "      try:\n",
        "        dead = result['deaddate']['value']\n",
        "      except KeyError:\n",
        "        dead = 'S.D.'\n",
        "    except IndexError:\n",
        "      pass\n",
        "\n",
        "  row.append(name)\n",
        "  row.append(gender)\n",
        "  row.append(country)\n",
        "  row.append(birth)\n",
        "  row.append(dead)\n",
        "\n",
        "\n",
        "\n",
        "\n",
        "print(rows)"
      ],
      "execution_count": null,
      "outputs": []
    },
    {
      "cell_type": "code",
      "metadata": {
        "id": "TcroR27nwKWY"
      },
      "source": [
        "df_2 = pd.DataFrame.from_records(rows)\n",
        "\n",
        "print(df_2)"
      ],
      "execution_count": null,
      "outputs": []
    },
    {
      "cell_type": "code",
      "metadata": {
        "id": "oHPQhLDRzQwI"
      },
      "source": [
        "from gspread_dataframe import set_with_dataframe\n",
        "title = 'collectors_info_v4'\n",
        "gc.create(title)  # if not exist\n",
        "sheet = gc.open(title).sheet1\n",
        "set_with_dataframe(sheet, df_2) "
      ],
      "execution_count": 15,
      "outputs": []
    }
  ]
}