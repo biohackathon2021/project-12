{
  "nbformat": 4,
  "nbformat_minor": 0,
  "metadata": {
    "colab": {
      "name": "age_differences.ipynb",
      "provenance": [],
      "collapsed_sections": [],
      "authorship_tag": "ABX9TyMt2bo9purnJV84XSosQ08o",
      "include_colab_link": true
    },
    "kernelspec": {
      "name": "python3",
      "display_name": "Python 3"
    },
    "language_info": {
      "name": "python"
    }
  },
  "cells": [
    {
      "cell_type": "markdown",
      "metadata": {
        "id": "view-in-github",
        "colab_type": "text"
      },
      "source": [
        "<a href=\"https://colab.research.google.com/github/elixir-biohackathon-project-12/network-analysis/blob/main/age_differences.ipynb\" target=\"_parent\"><img src=\"https://colab.research.google.com/assets/colab-badge.svg\" alt=\"Open In Colab\"/></a>"
      ]
    },
    {
      "cell_type": "code",
      "metadata": {
        "id": "6M7lVf1xeItI"
      },
      "source": [
        "from google.colab import auth\n",
        "auth.authenticate_user()\n",
        "\n",
        "import gspread\n",
        "from oauth2client.client import GoogleCredentials\n",
        "\n",
        "gc = gspread.authorize(GoogleCredentials.get_application_default())"
      ],
      "execution_count": 211,
      "outputs": []
    },
    {
      "cell_type": "code",
      "metadata": {
        "id": "n_rKbRClIwMl"
      },
      "source": [
        "import numpy as np\n",
        "from datetime import datetime, timedelta, date\n",
        "import matplotlib\n",
        "import matplotlib.pyplot as plt\n",
        "import math \n",
        "import statistics\n",
        "import scipy\n",
        "import scipy.stats\n",
        "matplotlib.rcParams['image.cmap'] = 'viridis'\n"
      ],
      "execution_count": 219,
      "outputs": []
    },
    {
      "cell_type": "code",
      "metadata": {
        "colab": {
          "base_uri": "https://localhost:8080/"
        },
        "id": "zvRRy6c7aRAX",
        "outputId": "b391c01d-ab0c-4ef9-a71f-9dd5ed08b5c3"
      },
      "source": [
        "print(plt.style.available)"
      ],
      "execution_count": 191,
      "outputs": [
        {
          "output_type": "stream",
          "name": "stdout",
          "text": [
            "['Solarize_Light2', '_classic_test_patch', 'bmh', 'classic', 'dark_background', 'fast', 'fivethirtyeight', 'ggplot', 'grayscale', 'seaborn', 'seaborn-bright', 'seaborn-colorblind', 'seaborn-dark', 'seaborn-dark-palette', 'seaborn-darkgrid', 'seaborn-deep', 'seaborn-muted', 'seaborn-notebook', 'seaborn-paper', 'seaborn-pastel', 'seaborn-poster', 'seaborn-talk', 'seaborn-ticks', 'seaborn-white', 'seaborn-whitegrid', 'tableau-colorblind10']\n"
          ]
        }
      ]
    },
    {
      "cell_type": "code",
      "metadata": {
        "id": "QKp9oS5RM1yB"
      },
      "source": [
        "def days_between(d1, d2):\n",
        "    d1 = datetime.strptime(d1, \"%Y-%m-%dT%H:%M:%SZ\")\n",
        "    d2 = datetime.strptime(d2, \"%Y-%m-%dT%H:%M:%SZ\")\n",
        "    return abs((d2 - d1).days)"
      ],
      "execution_count": 113,
      "outputs": []
    },
    {
      "cell_type": "code",
      "metadata": {
        "colab": {
          "resources": {
            "http://localhost:8080/nbextensions/google.colab/files.js": {
              "data": "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",
              "ok": true,
              "headers": [
                [
                  "content-type",
                  "application/javascript"
                ]
              ],
              "status": 200,
              "status_text": ""
            }
          },
          "base_uri": "https://localhost:8080/",
          "height": 108
        },
        "id": "CuGjbB5C_2fD",
        "outputId": "de0c8aaa-bf1f-4e18-cb44-9c491bacbd26"
      },
      "source": [
        "import io\n",
        "import pandas as pd\n",
        "\n",
        "from google.colab import files\n",
        "uploaded = files.upload()"
      ],
      "execution_count": 114,
      "outputs": [
        {
          "output_type": "display_data",
          "data": {
            "text/html": [
              "\n",
              "     <input type=\"file\" id=\"files-0fcd7fd6-14e5-4aa9-8c1b-2f99074b3f73\" name=\"files[]\" multiple disabled\n",
              "        style=\"border:none\" />\n",
              "     <output id=\"result-0fcd7fd6-14e5-4aa9-8c1b-2f99074b3f73\">\n",
              "      Upload widget is only available when the cell has been executed in the\n",
              "      current browser session. Please rerun this cell to enable.\n",
              "      </output>\n",
              "      <script src=\"/nbextensions/google.colab/files.js\"></script> "
            ],
            "text/plain": [
              "<IPython.core.display.HTML object>"
            ]
          },
          "metadata": {}
        },
        {
          "output_type": "stream",
          "name": "stdout",
          "text": [
            "Saving collectors_info.csv to collectors_info (1).csv\n",
            "Saving selected.csv to selected (1).csv\n"
          ]
        }
      ]
    },
    {
      "cell_type": "code",
      "metadata": {
        "colab": {
          "base_uri": "https://localhost:8080/",
          "height": 206
        },
        "id": "0EeCauOWCL9H",
        "outputId": "f5d5afd3-6bc3-420c-f40c-c5f29832198c"
      },
      "source": [
        "nodes = pd.read_csv(io.BytesIO(uploaded['collectors_info.csv']), header=None, names = ['wdid', 'namestr', 'gender', 'CC', 'BD', 'DD'])\n",
        "edges = pd.read_csv(io.BytesIO(uploaded['selected.csv']))\n",
        "\n",
        "nodes.head()"
      ],
      "execution_count": 115,
      "outputs": [
        {
          "output_type": "execute_result",
          "data": {
            "text/html": [
              "<div>\n",
              "<style scoped>\n",
              "    .dataframe tbody tr th:only-of-type {\n",
              "        vertical-align: middle;\n",
              "    }\n",
              "\n",
              "    .dataframe tbody tr th {\n",
              "        vertical-align: top;\n",
              "    }\n",
              "\n",
              "    .dataframe thead th {\n",
              "        text-align: right;\n",
              "    }\n",
              "</style>\n",
              "<table border=\"1\" class=\"dataframe\">\n",
              "  <thead>\n",
              "    <tr style=\"text-align: right;\">\n",
              "      <th></th>\n",
              "      <th>wdid</th>\n",
              "      <th>namestr</th>\n",
              "      <th>gender</th>\n",
              "      <th>CC</th>\n",
              "      <th>BD</th>\n",
              "      <th>DD</th>\n",
              "    </tr>\n",
              "  </thead>\n",
              "  <tbody>\n",
              "    <tr>\n",
              "      <th>0</th>\n",
              "      <td>http://www.wikidata.org/entity/Q100156193</td>\n",
              "      <td>Laurence Henry Millener</td>\n",
              "      <td>male</td>\n",
              "      <td>New Zealand</td>\n",
              "      <td>1914-04-01T00:00:00Z</td>\n",
              "      <td>2000-01-01T00:00:00Z</td>\n",
              "    </tr>\n",
              "    <tr>\n",
              "      <th>1</th>\n",
              "      <td>http://www.wikidata.org/entity/Q100156193</td>\n",
              "      <td>Laurence Henry Millener</td>\n",
              "      <td>male</td>\n",
              "      <td>New Zealand</td>\n",
              "      <td>1914-04-01T00:00:00Z</td>\n",
              "      <td>2000-01-01T00:00:00Z</td>\n",
              "    </tr>\n",
              "    <tr>\n",
              "      <th>2</th>\n",
              "      <td>http://www.wikidata.org/entity/Q100157099</td>\n",
              "      <td>Ross Henry Michie</td>\n",
              "      <td>male</td>\n",
              "      <td>New Zealand</td>\n",
              "      <td>1894-01-01T00:00:00Z</td>\n",
              "      <td>1987-01-01T00:00:00Z</td>\n",
              "    </tr>\n",
              "    <tr>\n",
              "      <th>3</th>\n",
              "      <td>http://www.wikidata.org/entity/Q100587885</td>\n",
              "      <td>Myrtle L. T. Adams</td>\n",
              "      <td>female</td>\n",
              "      <td>United States of America</td>\n",
              "      <td>1903-12-13T00:00:00Z</td>\n",
              "      <td>1989-02-16T00:00:00Z</td>\n",
              "    </tr>\n",
              "    <tr>\n",
              "      <th>4</th>\n",
              "      <td>http://www.wikidata.org/entity/Q100600540</td>\n",
              "      <td>Hubert Walter Simmonds</td>\n",
              "      <td>unknown</td>\n",
              "      <td>unknown</td>\n",
              "      <td>1877-01-01T00:00:00Z</td>\n",
              "      <td>1966-03-16T00:00:00Z</td>\n",
              "    </tr>\n",
              "  </tbody>\n",
              "</table>\n",
              "</div>"
            ],
            "text/plain": [
              "                                        wdid  ...                    DD\n",
              "0  http://www.wikidata.org/entity/Q100156193  ...  2000-01-01T00:00:00Z\n",
              "1  http://www.wikidata.org/entity/Q100156193  ...  2000-01-01T00:00:00Z\n",
              "2  http://www.wikidata.org/entity/Q100157099  ...  1987-01-01T00:00:00Z\n",
              "3  http://www.wikidata.org/entity/Q100587885  ...  1989-02-16T00:00:00Z\n",
              "4  http://www.wikidata.org/entity/Q100600540  ...  1966-03-16T00:00:00Z\n",
              "\n",
              "[5 rows x 6 columns]"
            ]
          },
          "metadata": {},
          "execution_count": 115
        }
      ]
    },
    {
      "cell_type": "markdown",
      "metadata": {
        "id": "_M6GWyIbILTb"
      },
      "source": [
        "## calculate ages"
      ]
    },
    {
      "cell_type": "code",
      "metadata": {
        "id": "-c6DjG9_IBxl"
      },
      "source": [
        "nodes.BD = nodes.BD.replace('S.D.', '4000-01-01T00:00:00Z')\n",
        "nodes.DD = nodes.DD.replace('S.D.', '4000-01-01T00:00:00Z')"
      ],
      "execution_count": 116,
      "outputs": []
    },
    {
      "cell_type": "code",
      "metadata": {
        "colab": {
          "base_uri": "https://localhost:8080/"
        },
        "id": "h6fgHL6cL37Y",
        "outputId": "18cda139-86d7-45da-8b40-a639ca1ace05"
      },
      "source": [
        "nodes.BD"
      ],
      "execution_count": 117,
      "outputs": [
        {
          "output_type": "execute_result",
          "data": {
            "text/plain": [
              "0       1914-04-01T00:00:00Z\n",
              "1       1914-04-01T00:00:00Z\n",
              "2       1894-01-01T00:00:00Z\n",
              "3       1903-12-13T00:00:00Z\n",
              "4       1877-01-01T00:00:00Z\n",
              "                ...         \n",
              "3005    4000-01-01T00:00:00Z\n",
              "3006    4000-01-01T00:00:00Z\n",
              "3007    4000-01-01T00:00:00Z\n",
              "3008    4000-01-01T00:00:00Z\n",
              "3009    4000-01-01T00:00:00Z\n",
              "Name: BD, Length: 3010, dtype: object"
            ]
          },
          "metadata": {},
          "execution_count": 117
        }
      ]
    },
    {
      "cell_type": "code",
      "metadata": {
        "id": "R6oC4wu5I9GM"
      },
      "source": [
        "ages = []\n",
        "for index,row in nodes.iterrows():\n",
        "  try:\n",
        "    ages.append(days_between(row['DD'], row['BD']))\n",
        "  except ValueError:\n",
        "    ages.append(np.NaN)\n",
        "\n",
        "nodes['age'] = ages"
      ],
      "execution_count": 118,
      "outputs": []
    },
    {
      "cell_type": "code",
      "metadata": {
        "colab": {
          "base_uri": "https://localhost:8080/",
          "height": 206
        },
        "id": "s5f86zPONovy",
        "outputId": "a9a9dd7a-197b-4080-ea22-d003e99f26b7"
      },
      "source": [
        "edges_unique.head()"
      ],
      "execution_count": 119,
      "outputs": [
        {
          "output_type": "execute_result",
          "data": {
            "text/html": [
              "<div>\n",
              "<style scoped>\n",
              "    .dataframe tbody tr th:only-of-type {\n",
              "        vertical-align: middle;\n",
              "    }\n",
              "\n",
              "    .dataframe tbody tr th {\n",
              "        vertical-align: top;\n",
              "    }\n",
              "\n",
              "    .dataframe thead th {\n",
              "        text-align: right;\n",
              "    }\n",
              "</style>\n",
              "<table border=\"1\" class=\"dataframe\">\n",
              "  <thead>\n",
              "    <tr style=\"text-align: right;\">\n",
              "      <th></th>\n",
              "      <th>person1</th>\n",
              "      <th>person2</th>\n",
              "    </tr>\n",
              "  </thead>\n",
              "  <tbody>\n",
              "    <tr>\n",
              "      <th>0</th>\n",
              "      <td>https://orcid.org/0000-0002-7053-8557</td>\n",
              "      <td>https://orcid.org/0000-0002-7991-6593</td>\n",
              "    </tr>\n",
              "    <tr>\n",
              "      <th>1</th>\n",
              "      <td>https://orcid.org/0000-0002-7053-8557</td>\n",
              "      <td>https://orcid.org/0000-0003-1790-4332</td>\n",
              "    </tr>\n",
              "    <tr>\n",
              "      <th>280</th>\n",
              "      <td>https://orcid.org/0000-0002-7053-8557</td>\n",
              "      <td>https://orcid.org/0000-0002-1768-2891</td>\n",
              "    </tr>\n",
              "    <tr>\n",
              "      <th>2293</th>\n",
              "      <td>https://orcid.org/0000-0002-7053-8557</td>\n",
              "      <td>http://www.wikidata.org/entity/Q26714160</td>\n",
              "    </tr>\n",
              "    <tr>\n",
              "      <th>2759</th>\n",
              "      <td>https://orcid.org/0000-0003-3580-6808</td>\n",
              "      <td>https://orcid.org/0000-0002-3093-1258</td>\n",
              "    </tr>\n",
              "  </tbody>\n",
              "</table>\n",
              "</div>"
            ],
            "text/plain": [
              "                                    person1                                   person2\n",
              "0     https://orcid.org/0000-0002-7053-8557     https://orcid.org/0000-0002-7991-6593\n",
              "1     https://orcid.org/0000-0002-7053-8557     https://orcid.org/0000-0003-1790-4332\n",
              "280   https://orcid.org/0000-0002-7053-8557     https://orcid.org/0000-0002-1768-2891\n",
              "2293  https://orcid.org/0000-0002-7053-8557  http://www.wikidata.org/entity/Q26714160\n",
              "2759  https://orcid.org/0000-0003-3580-6808     https://orcid.org/0000-0002-3093-1258"
            ]
          },
          "metadata": {},
          "execution_count": 119
        }
      ]
    },
    {
      "cell_type": "markdown",
      "metadata": {
        "id": "8w4GsmEbPFFn"
      },
      "source": [
        "## calculate age differences"
      ]
    },
    {
      "cell_type": "code",
      "metadata": {
        "colab": {
          "base_uri": "https://localhost:8080/"
        },
        "id": "sqhp3AuOPDE0",
        "outputId": "9400093c-a422-4e94-f46b-f109e2add4b3"
      },
      "source": [
        "gender_1 = []\n",
        "gender_2 = []\n",
        "agediff = []\n",
        "age_p1 = []\n",
        "age_p2 = []\n",
        "id1 = []\n",
        "id2 = []\n",
        "# 0:unknown, 1:female-female, 2: male-male, 3:mixed\n",
        "gender_diff = []\n",
        "\n",
        "print(len(edges))\n",
        "edges_unique = pd.DataFrame.drop_duplicates(edges)\n",
        "print(edges_unique.head())\n",
        "\n",
        "\n",
        "for index, row in edges_unique.iterrows():\n",
        "  id1.append(row['person1'])\n",
        "  id2.append(row['person2'])\n",
        "  gen1 = nodes.loc[nodes.wdid == row['person1']]['gender'].values[0]\n",
        "  gen2 = nodes.loc[nodes.wdid == row['person2']]['gender'].values[0]\n",
        "  gender_1.append(gen1)\n",
        "  gender_2.append(gen2)\n",
        "  if gen1 == gen2:\n",
        "    if gen1 == 'male':\n",
        "      gender_diff.append('m-m')\n",
        "    elif gen1 == 'female':\n",
        "      gender_diff.append('f-f')\n",
        "    else:\n",
        "      gender_diff.append('unknown')\n",
        "  elif gen1 == 'unknown' or gen2 =='unknown':\n",
        "    gender_diff.append('unknown')\n",
        "  else:\n",
        "    gender_diff.append('mixed')\n",
        "\n",
        "  try:\n",
        "    age1 = nodes.loc[nodes.wdid == row['person1']]['BD']\n",
        "    age1 = age1.values[0]\n",
        "    age_p1.append(age1)\n",
        "    age2 = nodes.loc[nodes.wdid == row['person2']]['BD']\n",
        "    age2 = age2.values[0]\n",
        "    age_p2.append(age2)\n",
        "    agediff.append(abs(days_between(age2,age1))/365)\n",
        "  except IndexError:\n",
        "    agediff.append(np.NaN)\n",
        "\n",
        "print(len(agediff))"
      ],
      "execution_count": 120,
      "outputs": [
        {
          "output_type": "stream",
          "name": "stdout",
          "text": [
            "1184652\n",
            "                                    person1                                   person2\n",
            "0     https://orcid.org/0000-0002-7053-8557     https://orcid.org/0000-0002-7991-6593\n",
            "1     https://orcid.org/0000-0002-7053-8557     https://orcid.org/0000-0003-1790-4332\n",
            "280   https://orcid.org/0000-0002-7053-8557     https://orcid.org/0000-0002-1768-2891\n",
            "2293  https://orcid.org/0000-0002-7053-8557  http://www.wikidata.org/entity/Q26714160\n",
            "2759  https://orcid.org/0000-0003-3580-6808     https://orcid.org/0000-0002-3093-1258\n",
            "8660\n"
          ]
        }
      ]
    },
    {
      "cell_type": "code",
      "metadata": {
        "id": "CfPOKxb7KLaR"
      },
      "source": [
        "results = pd.DataFrame(list(zip(gender_1, gender_2, age_p1, age_p2, agediff, gender_diff, id1, id2)),\n",
        "               columns =['gen1', 'gen2', 'bd1', 'bd2', 'agediff', 'genderdiff', 'id1', 'id2'])"
      ],
      "execution_count": 121,
      "outputs": []
    },
    {
      "cell_type": "code",
      "metadata": {
        "colab": {
          "base_uri": "https://localhost:8080/",
          "height": 1000
        },
        "id": "pXZfctnKbgbB",
        "outputId": "e3005136-4602-40e3-f162-1b4fe65516bb"
      },
      "source": [
        "agediff = [i for i in agediff if i != 0]\n",
        "agediff = [i for i in agediff if i < 1000]\n",
        "\n",
        "agediff\n",
        "plt.xlabel('Age difference (years)')\n",
        "plt.ylabel('Number of collector pairs')\n",
        "plt.xlim(0, 200)\n",
        "plt.title('Histogram of age differences')\n",
        "plt.hist(agediff, bins=200)"
      ],
      "execution_count": 122,
      "outputs": [
        {
          "output_type": "execute_result",
          "data": {
            "text/plain": [
              "(array([386., 416., 410., 384., 318., 344., 290., 270., 304., 238., 256.,\n",
              "        232., 252., 230., 200., 244., 202., 160., 180., 186., 138., 172.,\n",
              "        124., 108., 126., 112.,  96., 106., 106.,  94.,  74.,  58.,  74.,\n",
              "         68.,  56.,  60.,  44.,  40.,  32.,  30.,  24.,  28.,  20.,  26.,\n",
              "          8.,  12.,  12.,   8.,  14.,  18.,  18.,  18.,  14.,  14.,   8.,\n",
              "          8.,  10.,   8.,  12.,   6.,   6.,  10.,   2.,   0.,   2.,   6.,\n",
              "          4.,   6.,   2.,   4.,   2.,   8.,   6.,   4.,   6.,   4.,   4.,\n",
              "          4.,  16.,   6.,   4.,   8.,   0.,   2.,   6.,   0.,   2.,   4.,\n",
              "          2.,   2.,   2.,   2.,   2.,   6.,   2.,   8.,   4.,   2.,   2.,\n",
              "          4.,   0.,   0.,   2.,   2.,   4.,   4.,   4.,   0.,   4.,   4.,\n",
              "          2.,   0.,   0.,   2.,   2.,   2.,   2.,   4.,   2.,   0.,   0.,\n",
              "          0.,   0.,   2.,   2.,   0.,   2.,   8.,   4.,   0.,   0.,   0.,\n",
              "          2.,   2.,   0.,   0.,   0.,   4.,   2.,   4.,   0.,   2.,   0.,\n",
              "          2.,   2.,   2.,   0.,   0.,   2.,   2.,   0.,   0.,   0.,   0.,\n",
              "          2.,   0.,   2.,   0.,   0.,   0.,   0.,   0.,   0.,   0.,   0.,\n",
              "          0.,   0.,   0.,   2.,   0.,   0.,   0.,   0.,   0.,   0.,   0.,\n",
              "          0.,   0.,   0.,   0.,   0.,   0.,   0.,   0.,   0.,   0.,   0.,\n",
              "          0.,   0.,   0.,   0.,   0.,   0.,   0.,   0.,   0.,   0.,   0.,\n",
              "          0.,   2.]),\n",
              " array([5.47945205e-03, 1.08771233e+00, 2.16994521e+00, 3.25217808e+00,\n",
              "        4.33441096e+00, 5.41664384e+00, 6.49887671e+00, 7.58110959e+00,\n",
              "        8.66334247e+00, 9.74557534e+00, 1.08278082e+01, 1.19100411e+01,\n",
              "        1.29922740e+01, 1.40745068e+01, 1.51567397e+01, 1.62389726e+01,\n",
              "        1.73212055e+01, 1.84034384e+01, 1.94856712e+01, 2.05679041e+01,\n",
              "        2.16501370e+01, 2.27323699e+01, 2.38146027e+01, 2.48968356e+01,\n",
              "        2.59790685e+01, 2.70613014e+01, 2.81435342e+01, 2.92257671e+01,\n",
              "        3.03080000e+01, 3.13902329e+01, 3.24724658e+01, 3.35546986e+01,\n",
              "        3.46369315e+01, 3.57191644e+01, 3.68013973e+01, 3.78836301e+01,\n",
              "        3.89658630e+01, 4.00480959e+01, 4.11303288e+01, 4.22125616e+01,\n",
              "        4.32947945e+01, 4.43770274e+01, 4.54592603e+01, 4.65414932e+01,\n",
              "        4.76237260e+01, 4.87059589e+01, 4.97881918e+01, 5.08704247e+01,\n",
              "        5.19526575e+01, 5.30348904e+01, 5.41171233e+01, 5.51993562e+01,\n",
              "        5.62815890e+01, 5.73638219e+01, 5.84460548e+01, 5.95282877e+01,\n",
              "        6.06105205e+01, 6.16927534e+01, 6.27749863e+01, 6.38572192e+01,\n",
              "        6.49394521e+01, 6.60216849e+01, 6.71039178e+01, 6.81861507e+01,\n",
              "        6.92683836e+01, 7.03506164e+01, 7.14328493e+01, 7.25150822e+01,\n",
              "        7.35973151e+01, 7.46795479e+01, 7.57617808e+01, 7.68440137e+01,\n",
              "        7.79262466e+01, 7.90084795e+01, 8.00907123e+01, 8.11729452e+01,\n",
              "        8.22551781e+01, 8.33374110e+01, 8.44196438e+01, 8.55018767e+01,\n",
              "        8.65841096e+01, 8.76663425e+01, 8.87485753e+01, 8.98308082e+01,\n",
              "        9.09130411e+01, 9.19952740e+01, 9.30775068e+01, 9.41597397e+01,\n",
              "        9.52419726e+01, 9.63242055e+01, 9.74064384e+01, 9.84886712e+01,\n",
              "        9.95709041e+01, 1.00653137e+02, 1.01735370e+02, 1.02817603e+02,\n",
              "        1.03899836e+02, 1.04982068e+02, 1.06064301e+02, 1.07146534e+02,\n",
              "        1.08228767e+02, 1.09311000e+02, 1.10393233e+02, 1.11475466e+02,\n",
              "        1.12557699e+02, 1.13639932e+02, 1.14722164e+02, 1.15804397e+02,\n",
              "        1.16886630e+02, 1.17968863e+02, 1.19051096e+02, 1.20133329e+02,\n",
              "        1.21215562e+02, 1.22297795e+02, 1.23380027e+02, 1.24462260e+02,\n",
              "        1.25544493e+02, 1.26626726e+02, 1.27708959e+02, 1.28791192e+02,\n",
              "        1.29873425e+02, 1.30955658e+02, 1.32037890e+02, 1.33120123e+02,\n",
              "        1.34202356e+02, 1.35284589e+02, 1.36366822e+02, 1.37449055e+02,\n",
              "        1.38531288e+02, 1.39613521e+02, 1.40695753e+02, 1.41777986e+02,\n",
              "        1.42860219e+02, 1.43942452e+02, 1.45024685e+02, 1.46106918e+02,\n",
              "        1.47189151e+02, 1.48271384e+02, 1.49353616e+02, 1.50435849e+02,\n",
              "        1.51518082e+02, 1.52600315e+02, 1.53682548e+02, 1.54764781e+02,\n",
              "        1.55847014e+02, 1.56929247e+02, 1.58011479e+02, 1.59093712e+02,\n",
              "        1.60175945e+02, 1.61258178e+02, 1.62340411e+02, 1.63422644e+02,\n",
              "        1.64504877e+02, 1.65587110e+02, 1.66669342e+02, 1.67751575e+02,\n",
              "        1.68833808e+02, 1.69916041e+02, 1.70998274e+02, 1.72080507e+02,\n",
              "        1.73162740e+02, 1.74244973e+02, 1.75327205e+02, 1.76409438e+02,\n",
              "        1.77491671e+02, 1.78573904e+02, 1.79656137e+02, 1.80738370e+02,\n",
              "        1.81820603e+02, 1.82902836e+02, 1.83985068e+02, 1.85067301e+02,\n",
              "        1.86149534e+02, 1.87231767e+02, 1.88314000e+02, 1.89396233e+02,\n",
              "        1.90478466e+02, 1.91560699e+02, 1.92642932e+02, 1.93725164e+02,\n",
              "        1.94807397e+02, 1.95889630e+02, 1.96971863e+02, 1.98054096e+02,\n",
              "        1.99136329e+02, 2.00218562e+02, 2.01300795e+02, 2.02383027e+02,\n",
              "        2.03465260e+02, 2.04547493e+02, 2.05629726e+02, 2.06711959e+02,\n",
              "        2.07794192e+02, 2.08876425e+02, 2.09958658e+02, 2.11040890e+02,\n",
              "        2.12123123e+02, 2.13205356e+02, 2.14287589e+02, 2.15369822e+02,\n",
              "        2.16452055e+02]),\n",
              " <a list of 200 Patch objects>)"
            ]
          },
          "metadata": {},
          "execution_count": 122
        },
        {
          "output_type": "display_data",
          "data": {
            "image/png": "[encoded data removed]",
            "text/plain": [
              "<Figure size 432x288 with 1 Axes>"
            ]
          },
          "metadata": {
            "needs_background": "light"
          }
        }
      ]
    },
    {
      "cell_type": "code",
      "metadata": {
        "colab": {
          "base_uri": "https://localhost:8080/"
        },
        "id": "fLwFA2tx3kKM",
        "outputId": "9d1d4ecc-d68d-4a98-934d-897070807f37"
      },
      "source": [
        "print(len(agediff))\n",
        "print(len(gender_1))"
      ],
      "execution_count": 123,
      "outputs": [
        {
          "output_type": "stream",
          "name": "stdout",
          "text": [
            "7764\n",
            "8660\n"
          ]
        }
      ]
    },
    {
      "cell_type": "code",
      "metadata": {
        "colab": {
          "base_uri": "https://localhost:8080/",
          "height": 597
        },
        "id": "XrQn6PfEP3DN",
        "outputId": "b37e4c89-74a6-4f2f-c801-2f4efaa6e30c"
      },
      "source": [
        "results"
      ],
      "execution_count": 124,
      "outputs": [
        {
          "output_type": "execute_result",
          "data": {
            "text/html": [
              "<div>\n",
              "<style scoped>\n",
              "    .dataframe tbody tr th:only-of-type {\n",
              "        vertical-align: middle;\n",
              "    }\n",
              "\n",
              "    .dataframe tbody tr th {\n",
              "        vertical-align: top;\n",
              "    }\n",
              "\n",
              "    .dataframe thead th {\n",
              "        text-align: right;\n",
              "    }\n",
              "</style>\n",
              "<table border=\"1\" class=\"dataframe\">\n",
              "  <thead>\n",
              "    <tr style=\"text-align: right;\">\n",
              "      <th></th>\n",
              "      <th>gen1</th>\n",
              "      <th>gen2</th>\n",
              "      <th>bd1</th>\n",
              "      <th>bd2</th>\n",
              "      <th>agediff</th>\n",
              "      <th>genderdiff</th>\n",
              "      <th>id1</th>\n",
              "      <th>id2</th>\n",
              "    </tr>\n",
              "  </thead>\n",
              "  <tbody>\n",
              "    <tr>\n",
              "      <th>0</th>\n",
              "      <td>male</td>\n",
              "      <td>unknown</td>\n",
              "      <td>4000-01-01T00:00:00Z</td>\n",
              "      <td>4000-01-01T00:00:00Z</td>\n",
              "      <td>0.000000</td>\n",
              "      <td>unknown</td>\n",
              "      <td>https://orcid.org/0000-0002-7053-8557</td>\n",
              "      <td>https://orcid.org/0000-0002-7991-6593</td>\n",
              "    </tr>\n",
              "    <tr>\n",
              "      <th>1</th>\n",
              "      <td>male</td>\n",
              "      <td>male</td>\n",
              "      <td>4000-01-01T00:00:00Z</td>\n",
              "      <td>1978-01-01T00:00:00Z</td>\n",
              "      <td>2023.342466</td>\n",
              "      <td>m-m</td>\n",
              "      <td>https://orcid.org/0000-0002-7053-8557</td>\n",
              "      <td>https://orcid.org/0000-0003-1790-4332</td>\n",
              "    </tr>\n",
              "    <tr>\n",
              "      <th>2</th>\n",
              "      <td>male</td>\n",
              "      <td>unknown</td>\n",
              "      <td>4000-01-01T00:00:00Z</td>\n",
              "      <td>4000-01-01T00:00:00Z</td>\n",
              "      <td>0.000000</td>\n",
              "      <td>unknown</td>\n",
              "      <td>https://orcid.org/0000-0002-7053-8557</td>\n",
              "      <td>https://orcid.org/0000-0002-1768-2891</td>\n",
              "    </tr>\n",
              "    <tr>\n",
              "      <th>3</th>\n",
              "      <td>male</td>\n",
              "      <td>female</td>\n",
              "      <td>4000-01-01T00:00:00Z</td>\n",
              "      <td>1960-03-22T00:00:00Z</td>\n",
              "      <td>2041.134247</td>\n",
              "      <td>mixed</td>\n",
              "      <td>https://orcid.org/0000-0002-7053-8557</td>\n",
              "      <td>http://www.wikidata.org/entity/Q26714160</td>\n",
              "    </tr>\n",
              "    <tr>\n",
              "      <th>4</th>\n",
              "      <td>unknown</td>\n",
              "      <td>male</td>\n",
              "      <td>4000-01-01T00:00:00Z</td>\n",
              "      <td>1966-11-18T00:00:00Z</td>\n",
              "      <td>2034.471233</td>\n",
              "      <td>unknown</td>\n",
              "      <td>https://orcid.org/0000-0003-3580-6808</td>\n",
              "      <td>https://orcid.org/0000-0002-3093-1258</td>\n",
              "    </tr>\n",
              "    <tr>\n",
              "      <th>...</th>\n",
              "      <td>...</td>\n",
              "      <td>...</td>\n",
              "      <td>...</td>\n",
              "      <td>...</td>\n",
              "      <td>...</td>\n",
              "      <td>...</td>\n",
              "      <td>...</td>\n",
              "      <td>...</td>\n",
              "    </tr>\n",
              "    <tr>\n",
              "      <th>8655</th>\n",
              "      <td>male</td>\n",
              "      <td>male</td>\n",
              "      <td>1871-12-20T00:00:00Z</td>\n",
              "      <td>1886-06-18T00:00:00Z</td>\n",
              "      <td>14.504110</td>\n",
              "      <td>m-m</td>\n",
              "      <td>http://www.wikidata.org/entity/Q5622052</td>\n",
              "      <td>http://www.wikidata.org/entity/Q34558</td>\n",
              "    </tr>\n",
              "    <tr>\n",
              "      <th>8656</th>\n",
              "      <td>male</td>\n",
              "      <td>male</td>\n",
              "      <td>1925-01-01T00:00:00Z</td>\n",
              "      <td>1893-01-01T00:00:00Z</td>\n",
              "      <td>32.019178</td>\n",
              "      <td>m-m</td>\n",
              "      <td>http://www.wikidata.org/entity/Q12736603</td>\n",
              "      <td>http://www.wikidata.org/entity/Q12729092</td>\n",
              "    </tr>\n",
              "    <tr>\n",
              "      <th>8657</th>\n",
              "      <td>male</td>\n",
              "      <td>male</td>\n",
              "      <td>1869-04-15T00:00:00Z</td>\n",
              "      <td>1749-10-10T00:00:00Z</td>\n",
              "      <td>119.591781</td>\n",
              "      <td>m-m</td>\n",
              "      <td>http://www.wikidata.org/entity/Q4993340</td>\n",
              "      <td>http://www.wikidata.org/entity/Q353283</td>\n",
              "    </tr>\n",
              "    <tr>\n",
              "      <th>8658</th>\n",
              "      <td>unknown</td>\n",
              "      <td>unknown</td>\n",
              "      <td>4000-01-01T00:00:00Z</td>\n",
              "      <td>4000-01-01T00:00:00Z</td>\n",
              "      <td>0.000000</td>\n",
              "      <td>unknown</td>\n",
              "      <td>https://orcid.org/0000-0002-2930-9031</td>\n",
              "      <td>https://orcid.org/0000-0002-7686-8610</td>\n",
              "    </tr>\n",
              "    <tr>\n",
              "      <th>8659</th>\n",
              "      <td>male</td>\n",
              "      <td>male</td>\n",
              "      <td>1797-01-01T00:00:00Z</td>\n",
              "      <td>1964-01-01T00:00:00Z</td>\n",
              "      <td>167.106849</td>\n",
              "      <td>m-m</td>\n",
              "      <td>http://www.wikidata.org/entity/Q2643365</td>\n",
              "      <td>https://orcid.org/0000-0002-7619-824X</td>\n",
              "    </tr>\n",
              "  </tbody>\n",
              "</table>\n",
              "<p>8660 rows × 8 columns</p>\n",
              "</div>"
            ],
            "text/plain": [
              "         gen1  ...                                       id2\n",
              "0        male  ...     https://orcid.org/0000-0002-7991-6593\n",
              "1        male  ...     https://orcid.org/0000-0003-1790-4332\n",
              "2        male  ...     https://orcid.org/0000-0002-1768-2891\n",
              "3        male  ...  http://www.wikidata.org/entity/Q26714160\n",
              "4     unknown  ...     https://orcid.org/0000-0002-3093-1258\n",
              "...       ...  ...                                       ...\n",
              "8655     male  ...     http://www.wikidata.org/entity/Q34558\n",
              "8656     male  ...  http://www.wikidata.org/entity/Q12729092\n",
              "8657     male  ...    http://www.wikidata.org/entity/Q353283\n",
              "8658  unknown  ...     https://orcid.org/0000-0002-7686-8610\n",
              "8659     male  ...     https://orcid.org/0000-0002-7619-824X\n",
              "\n",
              "[8660 rows x 8 columns]"
            ]
          },
          "metadata": {},
          "execution_count": 124
        }
      ]
    },
    {
      "cell_type": "code",
      "metadata": {
        "id": "bMUdkJ1jWAAJ"
      },
      "source": [
        "results.drop(results[results.agediff == 0].index, inplace=True)\n",
        "results.drop(results[results.agediff  > 1000].index, inplace=True)"
      ],
      "execution_count": 125,
      "outputs": []
    },
    {
      "cell_type": "code",
      "metadata": {
        "colab": {
          "base_uri": "https://localhost:8080/",
          "height": 365
        },
        "id": "2mZefx1tWgJ5",
        "outputId": "0dee9203-56c4-4d86-e17c-5da9341b7b68"
      },
      "source": [
        "mm = results.loc[results['genderdiff'] == 'm-m']\n",
        "ff = results.loc[results['genderdiff'] == 'f-f']\n",
        "mix = results.loc[results['genderdiff'] == 'mixed']\n",
        "unkn = results.loc[results['genderdiff'] == 'unknown']\n",
        "\n",
        "mean_mm = statistics.mean(mm.agediff)\n",
        "mean_mix = statistics.mean(mix.agediff)\n",
        "mean_ff = statistics.mean(ff.agediff)\n",
        "print(mean_mm)\n",
        "print(mean_mix)\n",
        "print(mean_ff)\n",
        "print(len(ff))\n",
        "\n",
        "\n",
        "plt.xlabel('Age difference (years)')\n",
        "plt.ylabel('Number of collector pairs')\n",
        "plt.xlim(0, 75)\n",
        "plt.title('Histogram of age differences')\n",
        "_, mmbins, _ = plt.hist(mm.agediff, bins=200, alpha=0.5, label = 'male-male')\n",
        "_, ffbins, _ = plt.hist(ff.agediff, bins=200, alpha=0.5, label = 'female-female')\n",
        "_, mixbins, _ = plt.hist(mix.agediff, bins=200, alpha=0.5, label = 'mixed')\n",
        "plt.hist(unkn.agediff, bins=200, alpha=0.5, label = 'unknown')\n",
        "plt.legend(loc='upper right')\n",
        "plt.show()"
      ],
      "execution_count": 239,
      "outputs": [
        {
          "output_type": "stream",
          "name": "stdout",
          "text": [
            "18.432736332746096\n",
            "19.70859846811018\n",
            "14.42588568729334\n",
            "348\n"
          ]
        },
        {
          "output_type": "display_data",
          "data": {
            "image/png": "[encoded data removed]",
            "text/plain": [
              "<Figure size 432x288 with 1 Axes>"
            ]
          },
          "metadata": {}
        }
      ]
    },
    {
      "cell_type": "code",
      "metadata": {
        "colab": {
          "base_uri": "https://localhost:8080/"
        },
        "id": "3Kq5fa4yLt_G",
        "outputId": "98e0e13c-f519-4b3a-b851-187e97770bc6"
      },
      "source": [
        "mean, var, skew, kurt = scipy.stats.invgamma.stats(mm.agediff, moments='mvsk')\n",
        "print(mean)"
      ],
      "execution_count": 175,
      "outputs": [
        {
          "output_type": "stream",
          "name": "stdout",
          "text": [
            "[0.02388587 0.04602774 0.01281241 ... 0.03223812 0.00843229 0.00602022]\n"
          ]
        }
      ]
    },
    {
      "cell_type": "code",
      "metadata": {
        "colab": {
          "base_uri": "https://localhost:8080/",
          "height": 840
        },
        "id": "PhEDzDJ5T_8C",
        "outputId": "4c866b9d-153d-4b9b-afc5-6e71f81a17b3"
      },
      "source": [
        "mm_filtered = [i for i in mm.agediff if i < 50]\n",
        "ff_filtered = [i for i in ff.agediff if i < 50]\n",
        "mix_filtered = [i for i in mix.agediff if i < 50]\n",
        "\n",
        "print('Mean male-male  ' + str(statistics.mean(mm_filtered)))\n",
        "print('Median male-male  ' + str(statistics.median(mm_filtered)))\n",
        "print('Mean female-female  ' + str(statistics.mean(ff_filtered)))\n",
        "print('Median female-female  ' + str(statistics.median(ff_filtered)))\n",
        "print('Mean mix  ' + str(statistics.mean(mix_filtered)))\n",
        "print('Median mix  ' + str(statistics.median(mix_filtered)))\n",
        "x = ['Female-Female', 'Male-Male', 'Mixed']\n",
        "plt.boxplot([ff_filtered, mm_filtered, mix_filtered], labels=x, showmeans=True)"
      ],
      "execution_count": 207,
      "outputs": [
        {
          "output_type": "stream",
          "name": "stdout",
          "text": [
            "Mean male-male  14.711149830914437\n",
            "Median male-male  12.36986301369863\n",
            "Mean female-female  13.151974214343271\n",
            "Median female-female  11.219178082191782\n",
            "Mean mix  14.606623643993982\n",
            "Median mix  11.508219178082191\n"
          ]
        },
        {
          "output_type": "stream",
          "name": "stderr",
          "text": [
            "/usr/local/lib/python3.7/dist-packages/numpy/core/_asarray.py:83: VisibleDeprecationWarning: Creating an ndarray from ragged nested sequences (which is a list-or-tuple of lists-or-tuples-or ndarrays with different lengths or shapes) is deprecated. If you meant to do this, you must specify 'dtype=object' when creating the ndarray\n",
            "  return array(a, dtype, copy=False, order=order)\n"
          ]
        },
        {
          "output_type": "execute_result",
          "data": {
            "text/plain": [
              "{'boxes': [<matplotlib.lines.Line2D at 0x7fd60b5ace50>,\n",
              "  <matplotlib.lines.Line2D at 0x7fd61bddcd50>,\n",
              "  <matplotlib.lines.Line2D at 0x7fd61b6ac190>],\n",
              " 'caps': [<matplotlib.lines.Line2D at 0x7fd60afebad0>,\n",
              "  <matplotlib.lines.Line2D at 0x7fd60afeb590>,\n",
              "  <matplotlib.lines.Line2D at 0x7fd60b608c50>,\n",
              "  <matplotlib.lines.Line2D at 0x7fd60b6085d0>,\n",
              "  <matplotlib.lines.Line2D at 0x7fd60aab5a50>,\n",
              "  <matplotlib.lines.Line2D at 0x7fd60aab5bd0>],\n",
              " 'fliers': [<matplotlib.lines.Line2D at 0x7fd61bddc610>,\n",
              "  <matplotlib.lines.Line2D at 0x7fd60ad4af90>,\n",
              "  <matplotlib.lines.Line2D at 0x7fd60b84b110>],\n",
              " 'means': [<matplotlib.lines.Line2D at 0x7fd60ad15c50>,\n",
              "  <matplotlib.lines.Line2D at 0x7fd60ad4a250>,\n",
              "  <matplotlib.lines.Line2D at 0x7fd60ac550d0>],\n",
              " 'medians': [<matplotlib.lines.Line2D at 0x7fd60ad15610>,\n",
              "  <matplotlib.lines.Line2D at 0x7fd60ad4abd0>,\n",
              "  <matplotlib.lines.Line2D at 0x7fd60ac55b10>],\n",
              " 'whiskers': [<matplotlib.lines.Line2D at 0x7fd60b5acd10>,\n",
              "  <matplotlib.lines.Line2D at 0x7fd60afeb490>,\n",
              "  <matplotlib.lines.Line2D at 0x7fd61bddcbd0>,\n",
              "  <matplotlib.lines.Line2D at 0x7fd60b608710>,\n",
              "  <matplotlib.lines.Line2D at 0x7fd61b6acbd0>,\n",
              "  <matplotlib.lines.Line2D at 0x7fd60aab51d0>]}"
            ]
          },
          "metadata": {},
          "execution_count": 207
        },
        {
          "output_type": "display_data",
          "data": {
            "image/png": "[encoded data removed]",
            "text/plain": [
              "<Figure size 432x288 with 1 Axes>"
            ]
          },
          "metadata": {}
        }
      ]
    },
    {
      "cell_type": "code",
      "metadata": {
        "id": "PTeBEydHbb-8"
      },
      "source": [
        "T1 = [datetime(1600, 1, 1), datetime(1699, 12, 31)]\n",
        "T2 = [datetime(1700, 1, 1), datetime(1799, 12, 31)]\n",
        "T3 = [datetime(1800, 1, 1), datetime(1899, 12, 31)]\n",
        "T4 = [datetime(1900, 1, 1), datetime(1999, 12, 31)]\n",
        "T5 = [datetime(2000, 1, 1), datetime(2099, 12, 31)]"
      ],
      "execution_count": 208,
      "outputs": []
    },
    {
      "cell_type": "markdown",
      "metadata": {
        "id": "NU_OLefBi1AD"
      },
      "source": [
        "## checking ratios according to time period"
      ]
    },
    {
      "cell_type": "code",
      "metadata": {
        "id": "weXKUouhi-Pc"
      },
      "source": [
        "r_mm = [0, 0, 0, 0, 0]\n",
        "r_ff = [0, 0, 0, 0, 0]\n",
        "r_mixed = [0, 0, 0, 0, 0]\n",
        "total = [0, 0, 0, 0, 0]\n",
        "\n",
        "for index,row in results.iterrows():\n",
        "  bd1 = datetime.strptime(row['bd1'], \"%Y-%m-%dT%H:%M:%SZ\")\n",
        "  if bd1 > T1[0] and bd1 < T1[1]:\n",
        "    if row['genderdiff'] == 'm-m':\n",
        "      r_mm[0] += 1\n",
        "      total[0] += 1\n",
        "    elif row['genderdiff'] == 'f-f':\n",
        "      r_ff[0] += 1\n",
        "      total[0] += 1\n",
        "    elif row['genderdiff'] == 'mixed':\n",
        "      r_mixed[0] += 1\n",
        "      total[0] += 1\n",
        "  \n",
        "  if bd1 > T2[0] and bd1 < T2[1]:\n",
        "    if row['genderdiff'] == 'm-m':\n",
        "      r_mm[1] += 1\n",
        "      total[1] += 1\n",
        "    elif row['genderdiff'] == 'f-f':\n",
        "      r_ff[1] += 1\n",
        "      total[1] += 1\n",
        "    elif row['genderdiff'] == 'mixed':\n",
        "      r_mixed[1] += 1\n",
        "      total[1] += 1\n",
        "  \n",
        "  if bd1 > T3[0] and bd1 < T3[1]:\n",
        "    if row['genderdiff'] == 'm-m':\n",
        "      r_mm[2] += 1\n",
        "      total[2] += 1\n",
        "    elif row['genderdiff'] == 'f-f':\n",
        "      r_ff[2] += 1\n",
        "      total[2] += 1\n",
        "    elif row['genderdiff'] == 'mixed':\n",
        "      r_mixed[2] += 1\n",
        "      total[2] += 1\n",
        "  \n",
        "  if bd1 > T4[0] and bd1 < T4[1]:\n",
        "    if row['genderdiff'] == 'm-m':\n",
        "      r_mm[3] += 1\n",
        "      total[3] += 1\n",
        "    elif row['genderdiff'] == 'f-f':\n",
        "      r_ff[3] += 1\n",
        "      total[3] += 1\n",
        "    elif row['genderdiff'] == 'mixed':\n",
        "      r_mixed[3] += 1\n",
        "      total[3] += 1\n",
        "\n",
        "    if bd1 > T5[0] and bd1 < T5[1]:\n",
        "      if row['genderdiff'] == 'm-m':\n",
        "        r_mm[4] += 1\n",
        "        total[4] += 1\n",
        "      elif row['genderdiff'] == 'f-f':\n",
        "        r_ff[4] += 1\n",
        "        total[4] += 1\n",
        "      elif row['genderdiff'] == 'mixed':\n",
        "        r_mixed[4] += 1\n",
        "        total[4] += 1\n"
      ],
      "execution_count": 129,
      "outputs": []
    },
    {
      "cell_type": "code",
      "metadata": {
        "colab": {
          "base_uri": "https://localhost:8080/"
        },
        "id": "XhT9onClthI_",
        "outputId": "93a1b227-bc94-419f-9e90-543e22b24835"
      },
      "source": [
        "len(results)"
      ],
      "execution_count": 130,
      "outputs": [
        {
          "output_type": "execute_result",
          "data": {
            "text/plain": [
              "7764"
            ]
          },
          "metadata": {},
          "execution_count": 130
        }
      ]
    },
    {
      "cell_type": "code",
      "metadata": {
        "id": "CBpam9a1pddH"
      },
      "source": [
        "x = ['17th', '18th', '19th', '20th']\n",
        "ratio_mmff = [int(b) / int(m) * 100 for b,m in zip(r_ff[0:4], r_mm[0:4])]\n",
        "mm_s = [int(b) / int(m) for b,m in zip(r_mm[0:4],total[0:4])]\n",
        "#mm_err = [math.sqrt((math.sqrt(b)/b + math.sqrt(m)/m)**2) for b,m in zip(r_mm[1:4],total[1:4])]\n",
        "ff_s = [int(b) / int(m) for b,m in zip(r_ff[0:4],total[0:4])]\n",
        "#ff_err = [math.sqrt((math.sqrt(b)/b + math.sqrt(m)/m)**2) for b,m in zip(r_ff[1:4],total[1:4])]\n",
        "mixed_s = [int(b) / int(m) for b,m in zip(r_mixed[0:4],total[0:4])]\n",
        "#mixed_err = [math.sqrt((math.sqrt(b)/b + math.sqrt(m)/m)**2) for b,m in zip(r_mixed[1:4],total[1:4])]"
      ],
      "execution_count": 234,
      "outputs": []
    },
    {
      "cell_type": "code",
      "metadata": {
        "colab": {
          "base_uri": "https://localhost:8080/",
          "height": 278
        },
        "id": "GsAqS4o1mt8y",
        "outputId": "4cb129c6-30dd-451a-c820-a6e1017e3d4e"
      },
      "source": [
        "plt.xlabel('Century')\n",
        "plt.ylabel('Fraction of the total')\n",
        "plt.plot(x, mm_s,'o', color='black',\n",
        "            label = 'male-male')\n",
        "plt.plot(x, ff_s,'x', color='black',\n",
        "             label = 'female-female')\n",
        "plt.plot(x, mixed_s, '*', color='black',\n",
        "             label = 'mixed')\n",
        "plt.legend(loc='center left', frameon=True)\n",
        "plt.style.use('seaborn-whitegrid')\n",
        "plt.show()"
      ],
      "execution_count": 236,
      "outputs": [
        {
          "output_type": "display_data",
          "data": {
            "image/png": "[encoded data removed]",
            "text/plain": [
              "<Figure size 432x288 with 1 Axes>"
            ]
          },
          "metadata": {}
        }
      ]
    },
    {
      "cell_type": "code",
      "metadata": {
        "colab": {
          "base_uri": "https://localhost:8080/"
        },
        "id": "zBPbYIqid4PD",
        "outputId": "cf084db6-8e41-419b-b0be-93fc6fcc75a3"
      },
      "source": [
        "results.to_csv('results.csv')\n",
        "\n",
        "from google.colab import drive\n",
        "drive.mount('drive')\n",
        "!cp results.csv \"drive/My Drive/\""
      ],
      "execution_count": 218,
      "outputs": [
        {
          "output_type": "stream",
          "name": "stdout",
          "text": [
            "Mounted at drive\n"
          ]
        }
      ]
    }
  ]
}