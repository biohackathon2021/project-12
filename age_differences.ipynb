{
  "nbformat": 4,
  "nbformat_minor": 0,
  "metadata": {
    "colab": {
      "name": "age_differences.ipynb",
      "provenance": [],
      "collapsed_sections": [],
      "authorship_tag": "ABX9TyPSIa+LcxSJxD1YFwH44r1U",
      "include_colab_link": true
    },
    "kernelspec": {
      "name": "python3",
      "display_name": "Python 3"
    },
    "language_info": {
      "name": "python"
    }
  },
  "cells": [
    {
      "cell_type": "markdown",
      "metadata": {
        "id": "view-in-github",
        "colab_type": "text"
      },
      "source": [
        "<a href=\"https://colab.research.google.com/github/elixir-biohackathon-project-12/network-analysis/blob/main/age_differences.ipynb\" target=\"_parent\"><img src=\"https://colab.research.google.com/assets/colab-badge.svg\" alt=\"Open In Colab\"/></a>"
      ]
    },
    {
      "cell_type": "code",
      "metadata": {
        "id": "n_rKbRClIwMl"
      },
      "source": [
        "import numpy as np\n",
        "from datetime import datetime, timedelta\n",
        "import matplotlib.pyplot as plt "
      ],
      "execution_count": 1,
      "outputs": []
    },
    {
      "cell_type": "code",
      "metadata": {
        "id": "QKp9oS5RM1yB"
      },
      "source": [
        "def days_between(d1, d2):\n",
        "    d1 = datetime.strptime(d1, \"%Y-%m-%dT%H:%M:%SZ\")\n",
        "    d2 = datetime.strptime(d2, \"%Y-%m-%dT%H:%M:%SZ\")\n",
        "    return abs((d2 - d1).days)"
      ],
      "execution_count": 2,
      "outputs": []
    },
    {
      "cell_type": "code",
      "metadata": {
        "colab": {
          "resources": {
            "http://localhost:8080/nbextensions/google.colab/files.js": {
              "data": "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",
              "ok": true,
              "headers": [
                [
                  "content-type",
                  "application/javascript"
                ]
              ],
              "status": 200,
              "status_text": ""
            }
          },
          "base_uri": "https://localhost:8080/",
          "height": 108
        },
        "id": "CuGjbB5C_2fD",
        "outputId": "4c04feeb-a32c-4e6d-a0f0-fc82f01bb8c5"
      },
      "source": [
        "import io\n",
        "import pandas as pd\n",
        "\n",
        "from google.colab import files\n",
        "uploaded = files.upload()"
      ],
      "execution_count": 3,
      "outputs": [
        {
          "output_type": "display_data",
          "data": {
            "text/html": [
              "\n",
              "     <input type=\"file\" id=\"files-ab850f66-f5bd-4864-8674-44a6753d98f3\" name=\"files[]\" multiple disabled\n",
              "        style=\"border:none\" />\n",
              "     <output id=\"result-ab850f66-f5bd-4864-8674-44a6753d98f3\">\n",
              "      Upload widget is only available when the cell has been executed in the\n",
              "      current browser session. Please rerun this cell to enable.\n",
              "      </output>\n",
              "      <script src=\"/nbextensions/google.colab/files.js\"></script> "
            ],
            "text/plain": [
              "<IPython.core.display.HTML object>"
            ]
          },
          "metadata": {}
        },
        {
          "output_type": "stream",
          "name": "stdout",
          "text": [
            "Saving collectors_info.csv to collectors_info.csv\n",
            "Saving selected.csv to selected.csv\n"
          ]
        }
      ]
    },
    {
      "cell_type": "code",
      "metadata": {
        "colab": {
          "base_uri": "https://localhost:8080/",
          "height": 206
        },
        "id": "0EeCauOWCL9H",
        "outputId": "7f31cacc-c895-4154-8d37-0348ff682c1f"
      },
      "source": [
        "nodes = pd.read_csv(io.BytesIO(uploaded['collectors_info.csv']), header=None, names = ['wdid', 'namestr', 'gender', 'CC', 'BD', 'DD'])\n",
        "edges = pd.read_csv(io.BytesIO(uploaded['selected.csv']))\n",
        "\n",
        "nodes.head()"
      ],
      "execution_count": 20,
      "outputs": [
        {
          "output_type": "execute_result",
          "data": {
            "text/html": [
              "<div>\n",
              "<style scoped>\n",
              "    .dataframe tbody tr th:only-of-type {\n",
              "        vertical-align: middle;\n",
              "    }\n",
              "\n",
              "    .dataframe tbody tr th {\n",
              "        vertical-align: top;\n",
              "    }\n",
              "\n",
              "    .dataframe thead th {\n",
              "        text-align: right;\n",
              "    }\n",
              "</style>\n",
              "<table border=\"1\" class=\"dataframe\">\n",
              "  <thead>\n",
              "    <tr style=\"text-align: right;\">\n",
              "      <th></th>\n",
              "      <th>wdid</th>\n",
              "      <th>namestr</th>\n",
              "      <th>gender</th>\n",
              "      <th>CC</th>\n",
              "      <th>BD</th>\n",
              "      <th>DD</th>\n",
              "    </tr>\n",
              "  </thead>\n",
              "  <tbody>\n",
              "    <tr>\n",
              "      <th>0</th>\n",
              "      <td>http://www.wikidata.org/entity/Q100156193</td>\n",
              "      <td>Laurence Henry Millener</td>\n",
              "      <td>male</td>\n",
              "      <td>New Zealand</td>\n",
              "      <td>1914-04-01T00:00:00Z</td>\n",
              "      <td>2000-01-01T00:00:00Z</td>\n",
              "    </tr>\n",
              "    <tr>\n",
              "      <th>1</th>\n",
              "      <td>http://www.wikidata.org/entity/Q100156193</td>\n",
              "      <td>Laurence Henry Millener</td>\n",
              "      <td>male</td>\n",
              "      <td>New Zealand</td>\n",
              "      <td>1914-04-01T00:00:00Z</td>\n",
              "      <td>2000-01-01T00:00:00Z</td>\n",
              "    </tr>\n",
              "    <tr>\n",
              "      <th>2</th>\n",
              "      <td>http://www.wikidata.org/entity/Q100157099</td>\n",
              "      <td>Ross Henry Michie</td>\n",
              "      <td>male</td>\n",
              "      <td>New Zealand</td>\n",
              "      <td>1894-01-01T00:00:00Z</td>\n",
              "      <td>1987-01-01T00:00:00Z</td>\n",
              "    </tr>\n",
              "    <tr>\n",
              "      <th>3</th>\n",
              "      <td>http://www.wikidata.org/entity/Q100587885</td>\n",
              "      <td>Myrtle L. T. Adams</td>\n",
              "      <td>female</td>\n",
              "      <td>United States of America</td>\n",
              "      <td>1903-12-13T00:00:00Z</td>\n",
              "      <td>1989-02-16T00:00:00Z</td>\n",
              "    </tr>\n",
              "    <tr>\n",
              "      <th>4</th>\n",
              "      <td>http://www.wikidata.org/entity/Q100600540</td>\n",
              "      <td>Hubert Walter Simmonds</td>\n",
              "      <td>unknown</td>\n",
              "      <td>unknown</td>\n",
              "      <td>1877-01-01T00:00:00Z</td>\n",
              "      <td>1966-03-16T00:00:00Z</td>\n",
              "    </tr>\n",
              "  </tbody>\n",
              "</table>\n",
              "</div>"
            ],
            "text/plain": [
              "                                        wdid  ...                    DD\n",
              "0  http://www.wikidata.org/entity/Q100156193  ...  2000-01-01T00:00:00Z\n",
              "1  http://www.wikidata.org/entity/Q100156193  ...  2000-01-01T00:00:00Z\n",
              "2  http://www.wikidata.org/entity/Q100157099  ...  1987-01-01T00:00:00Z\n",
              "3  http://www.wikidata.org/entity/Q100587885  ...  1989-02-16T00:00:00Z\n",
              "4  http://www.wikidata.org/entity/Q100600540  ...  1966-03-16T00:00:00Z\n",
              "\n",
              "[5 rows x 6 columns]"
            ]
          },
          "metadata": {},
          "execution_count": 20
        }
      ]
    },
    {
      "cell_type": "markdown",
      "metadata": {
        "id": "_M6GWyIbILTb"
      },
      "source": [
        "## calculate ages"
      ]
    },
    {
      "cell_type": "code",
      "metadata": {
        "id": "-c6DjG9_IBxl"
      },
      "source": [
        "nodes.BD = nodes.BD.replace('S.D.', '4000-01-01T00:00:00Z')\n",
        "nodes.DD = nodes.DD.replace('S.D.', '4000-01-01T00:00:00Z')"
      ],
      "execution_count": 21,
      "outputs": []
    },
    {
      "cell_type": "code",
      "metadata": {
        "colab": {
          "base_uri": "https://localhost:8080/"
        },
        "id": "h6fgHL6cL37Y",
        "outputId": "7babb0d7-0a90-45d7-8a34-333174b51ba3"
      },
      "source": [
        "nodes.BD"
      ],
      "execution_count": 22,
      "outputs": [
        {
          "output_type": "execute_result",
          "data": {
            "text/plain": [
              "0       1914-04-01T00:00:00Z\n",
              "1       1914-04-01T00:00:00Z\n",
              "2       1894-01-01T00:00:00Z\n",
              "3       1903-12-13T00:00:00Z\n",
              "4       1877-01-01T00:00:00Z\n",
              "                ...         \n",
              "3005    4000-01-01T00:00:00Z\n",
              "3006    4000-01-01T00:00:00Z\n",
              "3007    4000-01-01T00:00:00Z\n",
              "3008    4000-01-01T00:00:00Z\n",
              "3009    4000-01-01T00:00:00Z\n",
              "Name: BD, Length: 3010, dtype: object"
            ]
          },
          "metadata": {},
          "execution_count": 22
        }
      ]
    },
    {
      "cell_type": "code",
      "metadata": {
        "id": "R6oC4wu5I9GM"
      },
      "source": [
        "ages = []\n",
        "for index,row in nodes.iterrows():\n",
        "  try:\n",
        "    ages.append(days_between(row['DD'], row['BD']))\n",
        "  except ValueError:\n",
        "    ages.append(np.NaN)\n",
        "\n",
        "nodes['age'] = ages"
      ],
      "execution_count": 23,
      "outputs": []
    },
    {
      "cell_type": "code",
      "metadata": {
        "colab": {
          "base_uri": "https://localhost:8080/",
          "height": 206
        },
        "id": "s5f86zPONovy",
        "outputId": "401aa7fe-a25e-4eba-f01d-05ce061fb3cb"
      },
      "source": [
        "nodes.head()"
      ],
      "execution_count": 24,
      "outputs": [
        {
          "output_type": "execute_result",
          "data": {
            "text/html": [
              "<div>\n",
              "<style scoped>\n",
              "    .dataframe tbody tr th:only-of-type {\n",
              "        vertical-align: middle;\n",
              "    }\n",
              "\n",
              "    .dataframe tbody tr th {\n",
              "        vertical-align: top;\n",
              "    }\n",
              "\n",
              "    .dataframe thead th {\n",
              "        text-align: right;\n",
              "    }\n",
              "</style>\n",
              "<table border=\"1\" class=\"dataframe\">\n",
              "  <thead>\n",
              "    <tr style=\"text-align: right;\">\n",
              "      <th></th>\n",
              "      <th>wdid</th>\n",
              "      <th>namestr</th>\n",
              "      <th>gender</th>\n",
              "      <th>CC</th>\n",
              "      <th>BD</th>\n",
              "      <th>DD</th>\n",
              "      <th>age</th>\n",
              "    </tr>\n",
              "  </thead>\n",
              "  <tbody>\n",
              "    <tr>\n",
              "      <th>0</th>\n",
              "      <td>http://www.wikidata.org/entity/Q100156193</td>\n",
              "      <td>Laurence Henry Millener</td>\n",
              "      <td>male</td>\n",
              "      <td>New Zealand</td>\n",
              "      <td>1914-04-01T00:00:00Z</td>\n",
              "      <td>2000-01-01T00:00:00Z</td>\n",
              "      <td>31321.0</td>\n",
              "    </tr>\n",
              "    <tr>\n",
              "      <th>1</th>\n",
              "      <td>http://www.wikidata.org/entity/Q100156193</td>\n",
              "      <td>Laurence Henry Millener</td>\n",
              "      <td>male</td>\n",
              "      <td>New Zealand</td>\n",
              "      <td>1914-04-01T00:00:00Z</td>\n",
              "      <td>2000-01-01T00:00:00Z</td>\n",
              "      <td>31321.0</td>\n",
              "    </tr>\n",
              "    <tr>\n",
              "      <th>2</th>\n",
              "      <td>http://www.wikidata.org/entity/Q100157099</td>\n",
              "      <td>Ross Henry Michie</td>\n",
              "      <td>male</td>\n",
              "      <td>New Zealand</td>\n",
              "      <td>1894-01-01T00:00:00Z</td>\n",
              "      <td>1987-01-01T00:00:00Z</td>\n",
              "      <td>33967.0</td>\n",
              "    </tr>\n",
              "    <tr>\n",
              "      <th>3</th>\n",
              "      <td>http://www.wikidata.org/entity/Q100587885</td>\n",
              "      <td>Myrtle L. T. Adams</td>\n",
              "      <td>female</td>\n",
              "      <td>United States of America</td>\n",
              "      <td>1903-12-13T00:00:00Z</td>\n",
              "      <td>1989-02-16T00:00:00Z</td>\n",
              "      <td>31112.0</td>\n",
              "    </tr>\n",
              "    <tr>\n",
              "      <th>4</th>\n",
              "      <td>http://www.wikidata.org/entity/Q100600540</td>\n",
              "      <td>Hubert Walter Simmonds</td>\n",
              "      <td>unknown</td>\n",
              "      <td>unknown</td>\n",
              "      <td>1877-01-01T00:00:00Z</td>\n",
              "      <td>1966-03-16T00:00:00Z</td>\n",
              "      <td>32580.0</td>\n",
              "    </tr>\n",
              "  </tbody>\n",
              "</table>\n",
              "</div>"
            ],
            "text/plain": [
              "                                        wdid  ...      age\n",
              "0  http://www.wikidata.org/entity/Q100156193  ...  31321.0\n",
              "1  http://www.wikidata.org/entity/Q100156193  ...  31321.0\n",
              "2  http://www.wikidata.org/entity/Q100157099  ...  33967.0\n",
              "3  http://www.wikidata.org/entity/Q100587885  ...  31112.0\n",
              "4  http://www.wikidata.org/entity/Q100600540  ...  32580.0\n",
              "\n",
              "[5 rows x 7 columns]"
            ]
          },
          "metadata": {},
          "execution_count": 24
        }
      ]
    },
    {
      "cell_type": "markdown",
      "metadata": {
        "id": "8w4GsmEbPFFn"
      },
      "source": [
        "## calculate age differences"
      ]
    },
    {
      "cell_type": "code",
      "metadata": {
        "colab": {
          "base_uri": "https://localhost:8080/"
        },
        "id": "sqhp3AuOPDE0",
        "outputId": "2915c845-c7cb-440c-acb7-5750d54a621b"
      },
      "source": [
        "gender_1 = []\n",
        "gender_2 = []\n",
        "agediff = []\n",
        "\n",
        "print(len(edges))\n",
        "edges_unique = pd.DataFrame.drop_duplicates(edges)\n",
        "print(edges_unique.head())\n",
        "\n",
        "\n",
        "for index, row in edges_unique.iterrows():\n",
        "  gender_1.append(nodes.loc[nodes.wdid == row['person1']]['gender'])\n",
        "  gender_2.append(nodes.loc[nodes.wdid == row['person2']]['gender'])\n",
        "  try:\n",
        "    age1 = nodes.loc[nodes.wdid == row['person1']]['BD']\n",
        "    age1 = age1.values[0]\n",
        "    age2 = nodes.loc[nodes.wdid == row['person2']]['BD']\n",
        "    age2 = age2.values[0]\n",
        "    agediff.append(abs(days_between(age2,age1))/365)\n",
        "  except IndexError:\n",
        "    pass\n",
        "\n",
        "print(len(agediff))"
      ],
      "execution_count": 25,
      "outputs": [
        {
          "output_type": "stream",
          "name": "stdout",
          "text": [
            "1184652\n",
            "                                    person1                                   person2\n",
            "0     https://orcid.org/0000-0002-7053-8557     https://orcid.org/0000-0002-7991-6593\n",
            "1     https://orcid.org/0000-0002-7053-8557     https://orcid.org/0000-0003-1790-4332\n",
            "280   https://orcid.org/0000-0002-7053-8557     https://orcid.org/0000-0002-1768-2891\n",
            "2293  https://orcid.org/0000-0002-7053-8557  http://www.wikidata.org/entity/Q26714160\n",
            "2759  https://orcid.org/0000-0003-3580-6808     https://orcid.org/0000-0002-3093-1258\n",
            "8660\n"
          ]
        }
      ]
    },
    {
      "cell_type": "code",
      "metadata": {
        "colab": {
          "base_uri": "https://localhost:8080/",
          "height": 590
        },
        "id": "pXZfctnKbgbB",
        "outputId": "0cd0204c-dc75-48f5-f060-c9beeeac5cd8"
      },
      "source": [
        "agediff = [i for i in agediff if i != 0]\n",
        "agediff = [i for i in agediff if i < 1000]\n",
        "\n",
        "agediff\n",
        "plt.xlabel('Age difference (years)')\n",
        "plt.ylabel('Number of collector pairs')\n",
        "plt.xlim(0, 200)\n",
        "plt.title('Histogram of age differences')\n",
        "plt.hist(agediff, bins=40)"
      ],
      "execution_count": 27,
      "outputs": [
        {
          "output_type": "execute_result",
          "data": {
            "text/plain": [
              "(array([1914., 1446., 1170.,  972.,  668.,  514.,  330.,  206.,  106.,\n",
              "          64.,   72.,   44.,   20.,   22.,   26.,   34.,   20.,   10.,\n",
              "          14.,   20.,    8.,   16.,    6.,   10.,    4.,   14.,    4.,\n",
              "          10.,    6.,    6.,    2.,    2.,    0.,    2.,    0.,    0.,\n",
              "           0.,    0.,    0.,    2.]),\n",
              " array([5.47945205e-03, 5.41664384e+00, 1.08278082e+01, 1.62389726e+01,\n",
              "        2.16501370e+01, 2.70613014e+01, 3.24724658e+01, 3.78836301e+01,\n",
              "        4.32947945e+01, 4.87059589e+01, 5.41171233e+01, 5.95282877e+01,\n",
              "        6.49394521e+01, 7.03506164e+01, 7.57617808e+01, 8.11729452e+01,\n",
              "        8.65841096e+01, 9.19952740e+01, 9.74064384e+01, 1.02817603e+02,\n",
              "        1.08228767e+02, 1.13639932e+02, 1.19051096e+02, 1.24462260e+02,\n",
              "        1.29873425e+02, 1.35284589e+02, 1.40695753e+02, 1.46106918e+02,\n",
              "        1.51518082e+02, 1.56929247e+02, 1.62340411e+02, 1.67751575e+02,\n",
              "        1.73162740e+02, 1.78573904e+02, 1.83985068e+02, 1.89396233e+02,\n",
              "        1.94807397e+02, 2.00218562e+02, 2.05629726e+02, 2.11040890e+02,\n",
              "        2.16452055e+02]),\n",
              " <a list of 40 Patch objects>)"
            ]
          },
          "metadata": {},
          "execution_count": 27
        },
        {
          "output_type": "display_data",
          "data": {
            "image/png": "[encoded data removed]",
            "text/plain": [
              "<Figure size 432x288 with 1 Axes>"
            ]
          },
          "metadata": {
            "needs_background": "light"
          }
        }
      ]
    }
  ]
}